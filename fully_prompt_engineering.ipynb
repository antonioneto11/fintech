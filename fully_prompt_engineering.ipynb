{
 "cells": [
  {
   "cell_type": "code",
   "execution_count": 1,
   "metadata": {},
   "outputs": [
    {
     "name": "stderr",
     "output_type": "stream",
     "text": [
      "/Users/antonioneto/Library/Mobile Documents/com~apple~CloudDocs/OceanoGraph/fully/lib/python3.12/site-packages/tqdm/auto.py:21: TqdmWarning: IProgress not found. Please update jupyter and ipywidgets. See https://ipywidgets.readthedocs.io/en/stable/user_install.html\n",
      "  from .autonotebook import tqdm as notebook_tqdm\n"
     ]
    },
    {
     "name": "stdout",
     "output_type": "stream",
     "text": [
      "Running on local URL:  http://127.0.0.1:7914\n",
      "\n",
      "To create a public link, set `share=True` in `launch()`.\n"
     ]
    },
    {
     "data": {
      "text/html": [
       "<div><iframe src=\"http://127.0.0.1:7914/\" width=\"100%\" height=\"500\" allow=\"autoplay; camera; microphone; clipboard-read; clipboard-write;\" frameborder=\"0\" allowfullscreen></iframe></div>"
      ],
      "text/plain": [
       "<IPython.core.display.HTML object>"
      ]
     },
     "metadata": {},
     "output_type": "display_data"
    }
   ],
   "source": [
    "import os\n",
    "from openai import OpenAI\n",
    "import gradio as gr\n",
    "\n",
    "# Environment variable for secure API key retrieval\n",
    "api_key = \"OPENAI_API_KEY\" \n",
    "if not api_key:\n",
    "    raise ValueError(\"API key not found. Please set the OPENAI_API_KEY environment variable.\")\n",
    "\n",
    "client = OpenAI(api_key=api_key)\n",
    "\n",
    "# System prompt incorporating finance, mental, and physical health\n",
    "system_prompt = \"\"\"\n",
    "You are an expert financial advisor knowledgeable about the impacts of financial decisions on mental and physical health. Provide clear, actionable advice on:\n",
    "1. Techniques for managing financial stress to improve mental well-being.\n",
    "2. Budgeting for health care expenses including mental health services.\n",
    "3. Financial planning for long-term physical and mental health.\n",
    "4. Effective financial strategies that support a balanced, healthy lifestyle.\n",
    "5. Handling financial crises while maintaining mental and physical health.\n",
    "\n",
    "You should not provide medical advice or therapy, but rather focus on the financial aspects of mental and physical health.\n",
    "You should not provide investment advice or specific financial product recommendations.\n",
    "You should not provide personal financial advice tailored to individual circumstances.\n",
    "You not answer question not related to finance, mental health, or physical health.\n",
    "\n",
    "Use bullet points for actionable steps and maintain a friendly and empathetic tone, aiming to educate and empower users with comprehensive advice.\n",
    "\"\"\"\n",
    "\n",
    "def get_response(prompt, model=\"gpt-3.5-turbo\", max_tokens=500, temperature=0.5):\n",
    "    \"\"\"Generate responses from the model based on user input.\"\"\"\n",
    "    try:\n",
    "        messages = [\n",
    "            {\"role\": \"system\", \"content\": system_prompt},\n",
    "            {\"role\": \"user\", \"content\": prompt}\n",
    "        ]\n",
    "        response = client.chat.completions.create(\n",
    "            model=model,\n",
    "            messages=messages,\n",
    "            max_tokens=max_tokens,\n",
    "            temperature=temperature\n",
    "        )\n",
    "        return response.choices[0].message.content\n",
    "    except Exception as e:\n",
    "        return f\"Error generating response: {e}\"\n",
    "\n",
    "def main():\n",
    "    \"\"\"Launch the Gradio interface.\"\"\"\n",
    "    interface = gr.Interface(\n",
    "        fn=get_response,\n",
    "        inputs=gr.Textbox(lines=5, placeholder=\"Type your question here...\"),\n",
    "        outputs=\"text\",\n",
    "        title=\"Holistic Financial Advisor Chatbot\",\n",
    "        description=\"Ask any question related to finance, mental health, or physical health.\"\n",
    "    )\n",
    "    interface.launch()\n",
    "\n",
    "if __name__ == \"__main__\":\n",
    "    main()\n"
   ]
  }
 ],
 "metadata": {
  "kernelspec": {
   "display_name": "fully",
   "language": "python",
   "name": "python3"
  },
  "language_info": {
   "codemirror_mode": {
    "name": "ipython",
    "version": 3
   },
   "file_extension": ".py",
   "mimetype": "text/x-python",
   "name": "python",
   "nbconvert_exporter": "python",
   "pygments_lexer": "ipython3",
   "version": "3.12.3"
  }
 },
 "nbformat": 4,
 "nbformat_minor": 2
}
